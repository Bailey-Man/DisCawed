{
 "cells": [
  {
   "cell_type": "code",
   "execution_count": null,
   "metadata": {},
   "outputs": [],
   "source": [
    "import cv2\n",
    "import pandas as pd\n",
    "import numpy as np"
   ]
  },
  {
   "cell_type": "code",
   "execution_count": null,
   "metadata": {},
   "outputs": [],
   "source": [
    "\n",
    "# Specify the path to the video file\n",
    "video_path = \"path/to/video.mp4\"\n",
    "\n",
    "# Open the video file\n",
    "video = cv2.VideoCapture(video_path)\n",
    "\n",
    "# Iterate through the video frames\n",
    "while True:\n",
    "    # Read the next frame\n",
    "    ret, frame = video.read()\n",
    "\n",
    "    # Break the loop if no more frames are available\n",
    "    if not ret:\n",
    "        break\n",
    "\n",
    "    # Get the dimensions of the frame\n",
    "    height, width, _ = frame.shape\n",
    "\n",
    "    # Define the region of interest (top right corner)\n",
    "    roi = frame[0:height//4, width//2:width]\n",
    "\n",
    "    # Perform kill detection in the region of interest\n",
    "    # Replace this with your own kill detection logic\n",
    "    # For example, you can use image processing techniques or machine learning models\n",
    "\n",
    "    # Display the frame with kill detection\n",
    "    cv2.imshow(\"Frame\", frame)\n",
    "\n",
    "    # Exit the loop if 'q' is pressed\n",
    "    if cv2.waitKey(1) & 0xFF == ord('q'):\n",
    "        break\n",
    "\n",
    "# Release the video file and close all windows\n",
    "video.release()\n",
    "cv2.destroyAllWindows()\n"
   ]
  }
 ],
 "metadata": {
  "kernelspec": {
   "display_name": "Python 3.10.8 ('fulcra_env')",
   "language": "python",
   "name": "python3"
  },
  "language_info": {
   "name": "python",
   "version": "3.10.8"
  },
  "vscode": {
   "interpreter": {
    "hash": "203f8245b470ea291719d9f524f54f6eb3be99715316aa8f82f087d4ce1a9b72"
   }
  }
 },
 "nbformat": 4,
 "nbformat_minor": 2
}
