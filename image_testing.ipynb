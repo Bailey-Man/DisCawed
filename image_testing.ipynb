{
 "cells": [
  {
   "cell_type": "code",
   "execution_count": null,
   "metadata": {},
   "outputs": [],
   "source": [
    "import numpy as np\n",
    "import matplotlib.pyplot as plt\n",
    "\n",
    "import skimage.data as data\n",
    "import skimage.segmentation as seg\n",
    "from skimage import filters\n",
    "from skimage import draw\n",
    "from skimage import color\n",
    "from skimage import exposure\n",
    "\n",
    "\n",
    "def image_show(image, nrows=1, ncols=1, cmap='gray', **kwargs):\n",
    "    fig, ax = plt.subplots(nrows=nrows, ncols=ncols, figsize=(16, 16))\n",
    "    ax.imshow(image, cmap='gray')\n",
    "    ax.axis('off')\n",
    "    return fig, ax"
   ]
  }
 ],
 "metadata": {
  "kernelspec": {
   "display_name": "Python 3.10.8 ('fulcra_env')",
   "language": "python",
   "name": "python3"
  },
  "language_info": {
   "name": "python",
   "version": "3.10.8"
  },
  "orig_nbformat": 4,
  "vscode": {
   "interpreter": {
    "hash": "203f8245b470ea291719d9f524f54f6eb3be99715316aa8f82f087d4ce1a9b72"
   }
  }
 },
 "nbformat": 4,
 "nbformat_minor": 2
}
